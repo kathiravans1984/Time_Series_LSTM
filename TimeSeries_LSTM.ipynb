{
  "nbformat": 4,
  "nbformat_minor": 0,
  "metadata": {
    "colab": {
      "name": "TimeSeries_LSTM.ipynb",
      "provenance": [],
      "collapsed_sections": [],
      "authorship_tag": "ABX9TyM5MVC+dTrI4XM4cpFa3Bfx",
      "include_colab_link": true
    },
    "kernelspec": {
      "name": "python3",
      "display_name": "Python 3"
    }
  },
  "cells": [
    {
      "cell_type": "markdown",
      "metadata": {
        "id": "view-in-github",
        "colab_type": "text"
      },
      "source": [
        "<a href=\"https://colab.research.google.com/github/kathiravans1984/Time_Series_LSTM/blob/master/TimeSeries_LSTM.ipynb\" target=\"_parent\"><img src=\"https://colab.research.google.com/assets/colab-badge.svg\" alt=\"Open In Colab\"/></a>"
      ]
    },
    {
      "cell_type": "code",
      "metadata": {
        "id": "z4_mFQuzZx-C",
        "colab_type": "code",
        "colab": {}
      },
      "source": [
        "#LSTM"
      ],
      "execution_count": 2,
      "outputs": []
    },
    {
      "cell_type": "code",
      "metadata": {
        "id": "kypx6NRdZ3oI",
        "colab_type": "code",
        "colab": {}
      },
      "source": [
        "# Code to read csv file into colaboratory:\n",
        "!pip install -U -q PyDrive\n",
        "from pydrive.auth import GoogleAuth\n",
        "from pydrive.drive import GoogleDrive\n",
        "from google.colab import auth\n",
        "from oauth2client.client import GoogleCredentials"
      ],
      "execution_count": 3,
      "outputs": []
    },
    {
      "cell_type": "code",
      "metadata": {
        "id": "186dRL6pagoE",
        "colab_type": "code",
        "colab": {}
      },
      "source": [
        "auth.authenticate_user()\n",
        "gauth = GoogleAuth()\n",
        "gauth.credentials = GoogleCredentials.get_application_default()\n",
        "drive = GoogleDrive(gauth)"
      ],
      "execution_count": 4,
      "outputs": []
    },
    {
      "cell_type": "code",
      "metadata": {
        "id": "Fc7M6MDCam8Z",
        "colab_type": "code",
        "colab": {}
      },
      "source": [
        "#2.1 Get the file\n",
        "downloaded = drive.CreateFile({'id':'16TAgBvug__vpxZEvLZa65wrUHt_sF4B_'}) # replace the id with id of file you want to access\n",
        "downloaded.GetContentFile('Training Data.csv') \n",
        "downloaded = drive.CreateFile({'id':'1UFasLB9ZXM720Y15SJ0IKWAS2Xc5z6en'}) # replace the id with id of file you want to access\n",
        "downloaded.GetContentFile('Test Data.csv') \n",
        "downloaded = drive.CreateFile({'id':'1XLUFcOs1qZrZhYgqVj6CXNYnpP8pEt9v'}) # replace the id with id of file you want to access\n",
        "downloaded.GetContentFile('Building Metadata.csv') \n",
        "downloaded = drive.CreateFile({'id':'1D0eiGkUm-z7fNfQ2TUKaXNUbFqIX-tKu'}) # replace the id with id of file you want to access\n",
        "downloaded.GetContentFile('Predictions.csv') "
      ],
      "execution_count": 5,
      "outputs": []
    },
    {
      "cell_type": "code",
      "metadata": {
        "id": "bqe1z-Ruf2O5",
        "colab_type": "code",
        "colab": {}
      },
      "source": [
        "#3.1 Read file as panda dataframe\n",
        "import pandas as pd\n",
        "meta_data = pd.read_csv('Building Metadata.csv', sep =';')\n",
        "train_data = pd.read_csv('Training Data.csv', sep = ';' )\n",
        "test_data = pd.read_csv('Test Data.csv', sep = ';', parse_dates = ['timestamp'])\n",
        "submission = pd.read_csv('Predictions.csv', sep = ';', parse_dates = ['timestamp'], index_col = 'pred_id') \n"
      ],
      "execution_count": 6,
      "outputs": []
    },
    {
      "cell_type": "code",
      "metadata": {
        "id": "qeDyHku_f8p5",
        "colab_type": "code",
        "colab": {}
      },
      "source": [
        "import datetime as dt\n",
        "train_data['timestamp'] = train_data['timestamp'].apply(lambda x:pd.to_datetime(x).tz_convert('UTC'))\n",
        "test_data['timestamp'] = test_data['timestamp'].apply(lambda x:pd.to_datetime(x).tz_convert('UTC'))\n",
        "submission['timestamp'] = submission['timestamp'].apply(lambda x:pd.to_datetime(x).tz_convert('UTC'))\n"
      ],
      "execution_count": 7,
      "outputs": []
    },
    {
      "cell_type": "code",
      "metadata": {
        "id": "qH5o9uNahfcb",
        "colab_type": "code",
        "colab": {
          "base_uri": "https://localhost:8080/",
          "height": 204
        },
        "outputId": "668fe0a5-8e4e-4553-c741-c7add233723f"
      },
      "source": [
        "train_data.head()"
      ],
      "execution_count": 8,
      "outputs": [
        {
          "output_type": "execute_result",
          "data": {
            "text/html": [
              "<div>\n",
              "<style scoped>\n",
              "    .dataframe tbody tr th:only-of-type {\n",
              "        vertical-align: middle;\n",
              "    }\n",
              "\n",
              "    .dataframe tbody tr th {\n",
              "        vertical-align: top;\n",
              "    }\n",
              "\n",
              "    .dataframe thead th {\n",
              "        text-align: right;\n",
              "    }\n",
              "</style>\n",
              "<table border=\"1\" class=\"dataframe\">\n",
              "  <thead>\n",
              "    <tr style=\"text-align: right;\">\n",
              "      <th></th>\n",
              "      <th>series_id</th>\n",
              "      <th>timestamp</th>\n",
              "      <th>consumption</th>\n",
              "      <th>temperature</th>\n",
              "    </tr>\n",
              "  </thead>\n",
              "  <tbody>\n",
              "    <tr>\n",
              "      <th>0</th>\n",
              "      <td>101869</td>\n",
              "      <td>2013-04-28 03:00:00+00:00</td>\n",
              "      <td>186668.524814</td>\n",
              "      <td>14.300000</td>\n",
              "    </tr>\n",
              "    <tr>\n",
              "      <th>1</th>\n",
              "      <td>100043</td>\n",
              "      <td>2017-11-22 13:00:00+00:00</td>\n",
              "      <td>70460.369717</td>\n",
              "      <td>NaN</td>\n",
              "    </tr>\n",
              "    <tr>\n",
              "      <th>2</th>\n",
              "      <td>103425</td>\n",
              "      <td>2016-04-20 06:00:00+00:00</td>\n",
              "      <td>67706.543361</td>\n",
              "      <td>4.333333</td>\n",
              "    </tr>\n",
              "    <tr>\n",
              "      <th>3</th>\n",
              "      <td>103425</td>\n",
              "      <td>2016-05-04 23:00:00+00:00</td>\n",
              "      <td>35042.519324</td>\n",
              "      <td>9.666667</td>\n",
              "    </tr>\n",
              "    <tr>\n",
              "      <th>4</th>\n",
              "      <td>101405</td>\n",
              "      <td>2015-10-14 05:00:00+00:00</td>\n",
              "      <td>29874.425364</td>\n",
              "      <td>NaN</td>\n",
              "    </tr>\n",
              "  </tbody>\n",
              "</table>\n",
              "</div>"
            ],
            "text/plain": [
              "   series_id                 timestamp    consumption  temperature\n",
              "0     101869 2013-04-28 03:00:00+00:00  186668.524814    14.300000\n",
              "1     100043 2017-11-22 13:00:00+00:00   70460.369717          NaN\n",
              "2     103425 2016-04-20 06:00:00+00:00   67706.543361     4.333333\n",
              "3     103425 2016-05-04 23:00:00+00:00   35042.519324     9.666667\n",
              "4     101405 2015-10-14 05:00:00+00:00   29874.425364          NaN"
            ]
          },
          "metadata": {
            "tags": []
          },
          "execution_count": 8
        }
      ]
    },
    {
      "cell_type": "code",
      "metadata": {
        "id": "VseLMWVVl_x9",
        "colab_type": "code",
        "colab": {}
      },
      "source": [
        "pd.read_csv("
      ],
      "execution_count": null,
      "outputs": []
    },
    {
      "cell_type": "code",
      "metadata": {
        "id": "Na4n_G0DiFaL",
        "colab_type": "code",
        "colab": {
          "base_uri": "https://localhost:8080/",
          "height": 204
        },
        "outputId": "f815ff86-54a0-4bdc-c0ee-80782bd2c424"
      },
      "source": [
        "xyz.head()"
      ],
      "execution_count": null,
      "outputs": [
        {
          "output_type": "execute_result",
          "data": {
            "text/html": [
              "<div>\n",
              "<style scoped>\n",
              "    .dataframe tbody tr th:only-of-type {\n",
              "        vertical-align: middle;\n",
              "    }\n",
              "\n",
              "    .dataframe tbody tr th {\n",
              "        vertical-align: top;\n",
              "    }\n",
              "\n",
              "    .dataframe thead th {\n",
              "        text-align: right;\n",
              "    }\n",
              "</style>\n",
              "<table border=\"1\" class=\"dataframe\">\n",
              "  <thead>\n",
              "    <tr style=\"text-align: right;\">\n",
              "      <th></th>\n",
              "      <th>series_id</th>\n",
              "      <th>timestamp</th>\n",
              "      <th>consumption</th>\n",
              "      <th>temperature</th>\n",
              "    </tr>\n",
              "  </thead>\n",
              "  <tbody>\n",
              "    <tr>\n",
              "      <th>0</th>\n",
              "      <td>102474</td>\n",
              "      <td>2014-07-22 00:00:00+00:00</td>\n",
              "      <td>20339.725446</td>\n",
              "      <td>24.275000</td>\n",
              "    </tr>\n",
              "    <tr>\n",
              "      <th>1</th>\n",
              "      <td>102857</td>\n",
              "      <td>2015-10-04 02:00:00+00:00</td>\n",
              "      <td>4672.240009</td>\n",
              "      <td>10.333333</td>\n",
              "    </tr>\n",
              "    <tr>\n",
              "      <th>2</th>\n",
              "      <td>100492</td>\n",
              "      <td>2014-08-14 09:00:00+00:00</td>\n",
              "      <td>57712.556284</td>\n",
              "      <td>31.000000</td>\n",
              "    </tr>\n",
              "    <tr>\n",
              "      <th>3</th>\n",
              "      <td>103628</td>\n",
              "      <td>2015-01-27 02:00:00+00:00</td>\n",
              "      <td>2662.731426</td>\n",
              "      <td>5.000000</td>\n",
              "    </tr>\n",
              "    <tr>\n",
              "      <th>4</th>\n",
              "      <td>100486</td>\n",
              "      <td>2015-03-08 03:00:00+00:00</td>\n",
              "      <td>38865.265925</td>\n",
              "      <td>7.000000</td>\n",
              "    </tr>\n",
              "  </tbody>\n",
              "</table>\n",
              "</div>"
            ],
            "text/plain": [
              "   series_id                 timestamp   consumption  temperature\n",
              "0     102474 2014-07-22 00:00:00+00:00  20339.725446    24.275000\n",
              "1     102857 2015-10-04 02:00:00+00:00   4672.240009    10.333333\n",
              "2     100492 2014-08-14 09:00:00+00:00  57712.556284    31.000000\n",
              "3     103628 2015-01-27 02:00:00+00:00   2662.731426     5.000000\n",
              "4     100486 2015-03-08 03:00:00+00:00  38865.265925     7.000000"
            ]
          },
          "metadata": {
            "tags": []
          },
          "execution_count": 38
        }
      ]
    },
    {
      "cell_type": "code",
      "metadata": {
        "id": "kiqkon61jL2b",
        "colab_type": "code",
        "colab": {}
      },
      "source": [
        ""
      ],
      "execution_count": null,
      "outputs": []
    }
  ]
}